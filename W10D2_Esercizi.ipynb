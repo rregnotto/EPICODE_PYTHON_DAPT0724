{
 "cells": [
  {
   "cell_type": "code",
   "execution_count": 11,
   "id": "63948245-9c75-49e0-8d29-407663f98af0",
   "metadata": {},
   "outputs": [
    {
     "data": {
      "text/plain": [
       "array([[5, 6, 7, 8, 9]])"
      ]
     },
     "execution_count": 11,
     "metadata": {},
     "output_type": "execute_result"
    }
   ],
   "source": [
    "#W10D2 Esercizi\n",
    "\n",
    "#ES1\n",
    "mat = [[0, 1, 2, 3, 4], \n",
    "       [5, 6, 7, 8, 9], \n",
    "       [10, 11, 12, 13, 14]]\n",
    "\n",
    "\"\"\"Che tipo di struttura dati o matematica potrebbe rappresentare? \n",
    "Notare che tutte le liste \"interne\" sono della stessa dimensione. Come facciamo per accedere ad un elemento in particolare?\"\"\"\n",
    "\n",
    "#Una matrice o tabella.\n",
    "import numpy as np\n",
    "maty = np.array(mat) #con la libreria numpy trasformo la lista in ndarray per poterla indicizzare\n",
    "maty[1:2] #colonna 1, seconda riga"
   ]
  },
  {
   "cell_type": "code",
   "execution_count": 7,
   "id": "8a0f459b-2f50-4112-a7ea-6072f5add275",
   "metadata": {},
   "outputs": [],
   "source": [
    "#ES2\n",
    "import math"
   ]
  },
  {
   "cell_type": "code",
   "execution_count": 9,
   "id": "e545adc8-a38b-4b23-b713-90cb80ec7a09",
   "metadata": {},
   "outputs": [
    {
     "data": {
      "text/plain": [
       "0.6569865987187891"
      ]
     },
     "execution_count": 9,
     "metadata": {},
     "output_type": "execute_result"
    }
   ],
   "source": [
    "n = 7\n",
    "math.sin(n)"
   ]
  },
  {
   "cell_type": "code",
   "execution_count": 11,
   "id": "b1bb3a7c-36c3-405a-9cef-a42e6e2e9587",
   "metadata": {},
   "outputs": [
    {
     "data": {
      "text/plain": [
       "0.7539022543433046"
      ]
     },
     "execution_count": 11,
     "metadata": {},
     "output_type": "execute_result"
    }
   ],
   "source": [
    "math.cos(n)"
   ]
  },
  {
   "cell_type": "code",
   "execution_count": 13,
   "id": "95157444-ee3b-4d2b-9b4f-99f8f4b12487",
   "metadata": {},
   "outputs": [
    {
     "data": {
      "text/plain": [
       "5040"
      ]
     },
     "execution_count": 13,
     "metadata": {},
     "output_type": "execute_result"
    }
   ],
   "source": [
    "math.factorial(n)"
   ]
  },
  {
   "cell_type": "code",
   "execution_count": 15,
   "id": "1e63e2c7-4be2-445d-9186-111cb17657aa",
   "metadata": {},
   "outputs": [
    {
     "ename": "TypeError",
     "evalue": "'float' object is not callable",
     "output_type": "error",
     "traceback": [
      "\u001b[0;31m---------------------------------------------------------------------------\u001b[0m",
      "\u001b[0;31mTypeError\u001b[0m                                 Traceback (most recent call last)",
      "Cell \u001b[0;32mIn[15], line 1\u001b[0m\n\u001b[0;32m----> 1\u001b[0m math\u001b[38;5;241m.\u001b[39mpi(n)\n",
      "\u001b[0;31mTypeError\u001b[0m: 'float' object is not callable"
     ]
    }
   ],
   "source": [
    "math.pi(n) #pi greco?"
   ]
  },
  {
   "cell_type": "code",
   "execution_count": 43,
   "id": "d4fec4f7-feff-4b5d-acd7-90d6f51493f4",
   "metadata": {},
   "outputs": [
    {
     "data": {
      "text/plain": [
       "180.0"
      ]
     },
     "execution_count": 43,
     "metadata": {},
     "output_type": "execute_result"
    }
   ],
   "source": [
    "#ES3\n",
    "math.degrees(math.pi) #da pi greco a gradi?"
   ]
  },
  {
   "cell_type": "code",
   "execution_count": 45,
   "id": "e15fdf27-e237-4db7-adab-4aaa683dc02d",
   "metadata": {},
   "outputs": [
    {
     "name": "stdout",
     "output_type": "stream",
     "text": [
      "Help on built-in function degrees in module math:\n",
      "\n",
      "degrees(x, /)\n",
      "    Convert angle x from radians to degrees.\n",
      "\n"
     ]
    }
   ],
   "source": [
    "help(math.degrees)"
   ]
  },
  {
   "cell_type": "code",
   "execution_count": 49,
   "id": "166162bd-ae0c-4873-8514-674c93a84d7a",
   "metadata": {},
   "outputs": [
    {
     "data": {
      "text/plain": [
       "array([2000, 5500, 7200, 4320, 1280, 1900, 2500, 3900, 6410, 8150, 7100,\n",
       "       5350])"
      ]
     },
     "execution_count": 49,
     "metadata": {},
     "output_type": "execute_result"
    }
   ],
   "source": [
    "#ES4\n",
    "lst = [2000, 5500, 7200, 4320, 1280, 1900, 2500, 3900, 6410, 8150, 7100, 5350] #venduto per mese dell'ultimo anno\n",
    "\n",
    "#trasformo la lista in array\n",
    "lsty = np.array(lst)\n",
    "lsty"
   ]
  },
  {
   "cell_type": "code",
   "execution_count": 55,
   "id": "301b7434-e735-4694-948e-1a6e9f767216",
   "metadata": {},
   "outputs": [
    {
     "name": "stdout",
     "output_type": "stream",
     "text": [
      "8150\n",
      "1280\n"
     ]
    }
   ],
   "source": [
    "#qual è stata la vendita massima mensile? E quella minima? \n",
    "vendita_max = np.max(lsty) # vendita massima\n",
    "vendita_min = np.min(lsty) #vendita minima\n",
    "print(vendita_max)\n",
    "print(vendita_min)"
   ]
  },
  {
   "cell_type": "code",
   "execution_count": 65,
   "id": "acf78489-2988-4391-b72a-432cab94f9c0",
   "metadata": {},
   "outputs": [
    {
     "data": {
      "text/plain": [
       "array([5500, 7200, 6410, 8150, 7100, 5350])"
      ]
     },
     "execution_count": 65,
     "metadata": {},
     "output_type": "execute_result"
    }
   ],
   "source": [
    "#quali sono le vendite mensili maggiori di 5000 oggetti? E quante ne sono? \n",
    "filtro = lsty > 5000\n",
    "filtered = lsty[filtro]\n",
    "filtered"
   ]
  },
  {
   "cell_type": "code",
   "execution_count": 69,
   "id": "9cf6891b-f8af-4ec2-8256-385342244619",
   "metadata": {},
   "outputs": [
    {
     "data": {
      "text/plain": [
       "6"
      ]
     },
     "execution_count": 69,
     "metadata": {},
     "output_type": "execute_result"
    }
   ],
   "source": [
    "filtered.size"
   ]
  },
  {
   "cell_type": "code",
   "execution_count": 71,
   "id": "3ed95834-9cb7-470f-9adb-add913ddf07f",
   "metadata": {},
   "outputs": [
    {
     "data": {
      "text/plain": [
       "array([2000, 1280, 1900, 2500])"
      ]
     },
     "execution_count": 71,
     "metadata": {},
     "output_type": "execute_result"
    }
   ],
   "source": [
    "#quali sono le vendite minori di 3000 oggetti?\n",
    "filtro = lsty < 3000\n",
    "filtered = lsty[filtro]\n",
    "filtered"
   ]
  },
  {
   "cell_type": "code",
   "execution_count": 81,
   "id": "9c5f6d47-723f-417b-a46a-ba2008ab32f6",
   "metadata": {},
   "outputs": [
    {
     "name": "stdout",
     "output_type": "stream",
     "text": [
      "In media sono stati venduti 4634.166666666667  oggetti al mese\n"
     ]
    }
   ],
   "source": [
    "#in media quanti oggetti sono stati venduti al mese?\n",
    "mean = lsty.mean()\n",
    "print(\"In media sono stati venduti\",mean,\" oggetti al mese\")"
   ]
  },
  {
   "cell_type": "code",
   "execution_count": 25,
   "id": "c30ab27e-cba8-4cfd-8b87-a47a8ee4f756",
   "metadata": {},
   "outputs": [
    {
     "data": {
      "text/plain": [
       "\"Qual è la differenza tra i due tipi di dato?\\nLa differenza tra un dizionario e una series sta nella dimensionalità della tipologia di dato.\\nUn dizionario è, infatti, bidimensionale, mentre una series è un array monodimensionale.\\n\\n#Cosa possiamo fare con la Series che non possiamo fare con il dizionario?\\nPosso accedere ad un certo dato in una series inserendo direttamente l'indice d'interesse, se in forma int. (?)\\n\""
      ]
     },
     "execution_count": 25,
     "metadata": {},
     "output_type": "execute_result"
    }
   ],
   "source": [
    "#ES5\n",
    "import pandas as pd\n",
    "fatturati_dict = {1997: 12_000, \n",
    "                  1998: 15_000, \n",
    "                  1999: 20_000, \n",
    "                  2000: 23_000, \n",
    "                  2001: 25_000, \n",
    "                  2002: 17_000, \n",
    "                  2003: 14_000, \n",
    "                  2004: 21_000}\n",
    "\n",
    "fatturati_series = pd.Series([12_000, 15_000, 20_000, 23_000, 25_000, 17_000, 14_000, 21_000], \n",
    "                             index=range(1997, 2005))\n",
    "\n",
    "#Possiamo accedere alle stesse informazioni nello stesso modo: \n",
    "\n",
    "fatturati_dict[1997] \n",
    "fatturati_series[1997]\n",
    "\n",
    "\"\"\"Qual è la differenza tra i due tipi di dato?\n",
    "La differenza tra un dizionario e una series sta nella dimensionalità della tipologia di dato.\n",
    "Un dizionario è, infatti, bidimensionale, mentre una series è un array monodimensionale.\n",
    "\n",
    "#Cosa possiamo fare con la Series che non possiamo fare con il dizionario?\n",
    "Posso accedere ad un certo dato in una series inserendo direttamente l'indice d'interesse, se in forma int. (?)\n",
    "\"\"\"\n",
    "\n"
   ]
  },
  {
   "cell_type": "code",
   "execution_count": 29,
   "id": "5b06d60c-6c34-4f2a-919e-6e0e8126fc4b",
   "metadata": {},
   "outputs": [
    {
     "name": "stdout",
     "output_type": "stream",
     "text": [
      "200\n",
      "400\n",
      "600\n",
      "800\n",
      "1000\n",
      "1200\n",
      "1400\n",
      "1600\n",
      "1800\n",
      "2000\n"
     ]
    }
   ],
   "source": [
    "#ES6\n",
    "import numpy as np\n",
    "stipendi = np.array( [100, 200, 300, 400, 500, 600, 700, 800, 900, 1000] )\n",
    "\n",
    "#raddoppia gli stipendi sia con un ciclo for, sia con il masking\n",
    "\n",
    "#metodo 1\n",
    "\n",
    "for i in stipendi:\n",
    "    aumento = i*2\n",
    "    print(aumento)"
   ]
  },
  {
   "cell_type": "code",
   "execution_count": 31,
   "id": "e04282c7-2971-4af1-8faf-d840345f5d28",
   "metadata": {},
   "outputs": [
    {
     "data": {
      "text/plain": [
       "array([ 200,  400,  600,  800, 1000, 1200, 1400, 1600, 1800, 2000])"
      ]
     },
     "execution_count": 31,
     "metadata": {},
     "output_type": "execute_result"
    }
   ],
   "source": [
    "#metodo 2\n",
    "\n",
    "aumento = stipendi*2\n",
    "aumento"
   ]
  },
  {
   "cell_type": "code",
   "execution_count": 117,
   "id": "07c348ca-4a5f-48c5-ab63-f7c6fb12cf64",
   "metadata": {},
   "outputs": [
    {
     "name": "stdout",
     "output_type": "stream",
     "text": [
      "[7 4]\n",
      "Funziona sempre\n",
      "I 2  numeri più grandi sono: [7 4]\n"
     ]
    }
   ],
   "source": [
    "#ES7\n",
    "\"\"\"Scrivere un programma che, data una lista di numeri, fornisca in output i tre numeri più grandi; \n",
    "gestire il caso in cui la lista sia più corta di tre, e quando uno o più dei numeri selezionati sono uguali.\n",
    "\"\"\"\n",
    "\n",
    "#lst=[5,3,20,45,60]\n",
    "lst = [7,4]\n",
    "lsty = np.array(lst)\n",
    "sorted_lsty = np.sort(lsty)[::-1]\n",
    "print(sorted_lsty)\n",
    "\n",
    "if len(sorted_lsty)>3:\n",
    "    print(\"I tre numeri più grandi sono:\", sorted_lsty[0:3])\n",
    "    \n",
    "print(\"Funziona sempre\")\n",
    "\n",
    "len_lsty = len(sorted_lsty[0:3])\n",
    "print(\"I\", f\"{len_lsty}\",\" numeri più grandi sono:\", sorted_lsty[0:3])"
   ]
  },
  {
   "cell_type": "code",
   "execution_count": 129,
   "id": "e2fe5208-a526-4e40-943d-cff86a0b0a36",
   "metadata": {},
   "outputs": [
    {
     "name": "stdout",
     "output_type": "stream",
     "text": [
      "6.5\n",
      "I numeri non sono adeguati\n"
     ]
    }
   ],
   "source": [
    "#ES8\n",
    "\n",
    "\"\"\"Scrivere un programma che \n",
    "• in input acquisisce una lista di numeri e un numero K \n",
    "• in output, dovrà restituire la media di tutti i numeri nella lista maggiori o uguali a K \n",
    "• se non ce ne dovesse essere nessuno, dovrà stampare a schermo un messaggio adeguato.\"\"\"\n",
    "\n",
    "k = 7\n",
    "inputy = (4,5,6,7,10, k)\n",
    "inpy = np.array(inputy)\n",
    "print(np.mean(inputy))\n",
    "\n",
    "if np.mean(inputy)>= k:\n",
    "    print(np.mean(inputy))\n",
    "else: \n",
    "    print(\"I numeri non sono adeguati\")\n"
   ]
  },
  {
   "cell_type": "code",
   "execution_count": 135,
   "id": "4e3b6b58-5d41-4571-ad7d-4628150b722a",
   "metadata": {},
   "outputs": [
    {
     "name": "stdout",
     "output_type": "stream",
     "text": [
      "****\n",
      "*****\n",
      "******\n",
      "*******\n",
      "*\n",
      "****\n"
     ]
    }
   ],
   "source": [
    "#ES9\n",
    "\n",
    "\"\"\"Scrivere un programma che, data una lista di numeri, \n",
    "come output stamperà lo stesso numero di asterischi su righe diverse, ottenendo una semplice visualizzazione grafica \n",
    "Esempio, supponendo di avere il seguente input: numeri = [5, 2, 3, 4] L'output sarà: ***** ** *** ****\n",
    "\"\"\"\n",
    "\n",
    "lst=[4,5,6,7,1,4]\n",
    "lsty = np.array(lst)\n",
    "star = \"*\"\n",
    "\n",
    "for i in lst:\n",
    "    output= star * i\n",
    "    print(output)\n"
   ]
  },
  {
   "cell_type": "code",
   "execution_count": 147,
   "id": "ff8724dd-78f8-461b-b3bd-6541abe46d54",
   "metadata": {},
   "outputs": [
    {
     "name": "stdout",
     "output_type": "stream",
     "text": [
      "['ABCDEF95G01A123B', 'STUVWX95Z04A654E', 'DEFGHI95J06A987G']\n",
      "Cognome: ABCD\n",
      "Nome: EF\n",
      "Cognome: STUV\n",
      "Nome: WX\n",
      "Cognome: DEFG\n",
      "Nome: HI\n"
     ]
    }
   ],
   "source": [
    "#ES10\n",
    "\n",
    "\"\"\"trovare i codici fiscali che contengono \"95\", metterli in una lista, e alla fine stamparla; \n",
    "• inoltre, per ognuno di essi, stampare a video i caratteri relativi al nome e quelli relativi al cognome\n",
    "\"\"\"\n",
    "\n",
    "lista_cf = [\"ABCDEF95G01A123B\", \"GHIJKL91M02A321C\", \"MNOPQR89S03A456D\", \"STUVWX95Z04A654E\", \"XYZABC01D05A789F\", \"DEFGHI95J06A987G\"]\n",
    "lista_95 = []\n",
    "\n",
    "for i in lista_cf:\n",
    "    if \"95\" in i:\n",
    "        lista_95.append(i)\n",
    "print(lista_95)\n",
    "\n",
    "for i in lista_95:\n",
    "    print(\"Cognome:\", i[0:4])\n",
    "    print(\"Nome:\", i[4:6])\n",
    "    \n"
   ]
  },
  {
   "cell_type": "code",
   "execution_count": 175,
   "id": "39e04899-366f-4a07-bc1f-914582842d33",
   "metadata": {},
   "outputs": [
    {
     "name": "stdout",
     "output_type": "stream",
     "text": [
      "Alex\n",
      "Faith\n",
      "8\n",
      "range(0, 8)\n"
     ]
    }
   ],
   "source": [
    "#ES11\n",
    "\n",
    "#stampare a video solo tutti gli studenti che frequentano una prima edizione \n",
    "\n",
    "studenti = [\"Alex\", \"Bob\", \"Cindy\", \"Dan\", \"Emma\", \"Faith\", \"Grace\", \"Henry\"] \n",
    "corsi = [\"Cybersecurity\", \"Data Analyst\", \"Backend\", \"Frontend\", \"Data Analyst\", \"Backend\", \"Frontend\", \"Cybersecurity\"] \n",
    "edizioni = [1, 2, 3, 2, 2, 1, 3, 3]\n",
    "\n",
    "for i in range(len(studenti)):\n",
    "    if edizioni[i]== 1:\n",
    "        print(studenti[i])\n",
    "\n",
    "\n",
    "print(len(studenti))\n",
    "print(range(len(studenti)))"
   ]
  },
  {
   "cell_type": "code",
   "execution_count": 177,
   "id": "72fd2c30-c81f-4367-a9a8-acf152b77b56",
   "metadata": {},
   "outputs": [
    {
     "name": "stdout",
     "output_type": "stream",
     "text": [
      "['100 $', '200 $', '500 $', '10 $', '50 $', '70 $']\n"
     ]
    }
   ],
   "source": [
    "#ES12\n",
    "\n",
    "#Abbiamo una lista di stringhe di prezzi in dollari, che erroneamente sono stati scritti con il simbolo dell'euro: \n",
    "\n",
    "prezzi = [\"100 €\", \"200 €\", \"500 €\", \"10 €\", \"50 €\", \"70 €\"] \n",
    "new_prezzi= []\n",
    "#cambiare il simbolo dell'euro (€) in quello del dollaro ($) per ogni stringa nella lista; \n",
    "#il risultato sarà memorizzato in un'altra lista.\n",
    "\n",
    "#Marco:\n",
    "for char in prezzi:\n",
    "    new_char = \"\"\n",
    "    for i in char:\n",
    "        if i != \"€\":\n",
    "            new_char += i\n",
    "        else:\n",
    "            new_char += \"$\"\n",
    "    new_prezzi.append(new_char)\n",
    "\n",
    "print(new_prezzi)\n",
    "        "
   ]
  },
  {
   "cell_type": "code",
   "execution_count": 185,
   "id": "167f63de-1375-4d2c-80e9-50d660885039",
   "metadata": {},
   "outputs": [
    {
     "name": "stdout",
     "output_type": "stream",
     "text": [
      "['Bob', 'Dan', 'Faith', 'Henry', 'John']\n",
      "['Alex', 'Cindy', 'Emma', 'Grace', 'Isabelle']\n"
     ]
    }
   ],
   "source": [
    "#ES13\n",
    "\n",
    "studenti = [\"Alex\", \"Bob\", \"Cindy\", \"Dan\", \"Emma\", \"Faith\", \"Grace\", \"Henry\", \"Isabelle\", \"John\"]\n",
    "#studenty = np.array(studenti)\n",
    "\n",
    "even = []\n",
    "odd  = []\n",
    "\n",
    "for i in range(len(studenti)):\n",
    "    if i % 2 == 0:\n",
    "        even.append(studenti[i])\n",
    "    else:\n",
    "        odd.append(studenti[i])\n",
    "print(odd)\n",
    "print(even)\n",
    "    "
   ]
  },
  {
   "cell_type": "code",
   "execution_count": 209,
   "id": "1830903a-470f-4511-a9c7-eaa9c790e289",
   "metadata": {},
   "outputs": [
    {
     "name": "stdout",
     "output_type": "stream",
     "text": [
      "Mese 1 : 100\n",
      "\n",
      "Mese 2 : 90\n",
      "La media è: 100.0\n",
      "La media è maggiore\n",
      "Mese 3 : 70\n",
      "La media è: 95.0\n",
      "La media è maggiore\n",
      "Mese 4 : 40\n",
      "La media è: 86.66666666666667\n",
      "La media è maggiore\n",
      "Mese 5 : 50\n",
      "La media è: 75.0\n",
      "La media è maggiore\n",
      "Mese 6 : 80\n",
      "La media è: 70.0\n",
      "La media è minore\n",
      "Mese 7 : 90\n",
      "La media è: 71.66666666666667\n",
      "La media è minore\n",
      "Mese 8 : 120\n",
      "La media è: 74.28571428571429\n",
      "La media è minore\n",
      "Mese 9 : 80\n",
      "La media è: 80.0\n",
      "La media è minore\n",
      "Mese 10 : 20\n",
      "La media è: 80.0\n",
      "La media è maggiore\n",
      "Mese 11 : 50\n",
      "La media è: 74.0\n",
      "La media è maggiore\n",
      "Mese 12 : 50\n",
      "La media è: 71.81818181818181\n",
      "La media è maggiore\n"
     ]
    }
   ],
   "source": [
    "#ES14\n",
    "\n",
    "guadagni = [100, 90, 70, 40, 50, 80, 90, 120, 80, 20, 50, 50]\n",
    "\n",
    "\"\"\"dobbiamo confrontare, stampando tutto a video, il guadagno di ogni mese con la media dei guadagni precedenti, \n",
    "e specificare nell'output se il guadagno attuale è maggiore o minore della media dei precedenti\"\"\"\n",
    "\n",
    "guadagny = np.array(guadagni)\n",
    "mese = 1\n",
    "somma = 0\n",
    "\n",
    "for i in guadagny:\n",
    "    print(\"Mese\", mese, \":\", i)\n",
    "    if mese == 1:\n",
    "        print(\"\")\n",
    "    else:\n",
    "        media = somma/(mese-1)\n",
    "        print(\"La media è:\", media)\n",
    "        if i < media:\n",
    "            print(\"La media è maggiore\")\n",
    "        else:\n",
    "            print(\"La media è minore\")\n",
    "    mese += 1\n",
    "    somma += i"
   ]
  },
  {
   "cell_type": "code",
   "execution_count": null,
   "id": "32b644db-1f41-44bd-8b86-e1b63bc8bc82",
   "metadata": {},
   "outputs": [],
   "source": []
  }
 ],
 "metadata": {
  "kernelspec": {
   "display_name": "Python [conda env:base] *",
   "language": "python",
   "name": "conda-base-py"
  },
  "language_info": {
   "codemirror_mode": {
    "name": "ipython",
    "version": 3
   },
   "file_extension": ".py",
   "mimetype": "text/x-python",
   "name": "python",
   "nbconvert_exporter": "python",
   "pygments_lexer": "ipython3",
   "version": "3.12.7"
  }
 },
 "nbformat": 4,
 "nbformat_minor": 5
}
