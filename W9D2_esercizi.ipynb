{
 "cells": [
  {
   "cell_type": "code",
   "execution_count": 15,
   "id": "3c7cc104-7aef-427b-bdfd-681e36e64bd7",
   "metadata": {},
   "outputs": [
    {
     "name": "stdout",
     "output_type": "stream",
     "text": [
      "E\n",
      "p\n",
      "i\n",
      "c\n",
      "o\n",
      "d\n",
      "e\n"
     ]
    }
   ],
   "source": [
    "#W9D2 ESERCIZI\n",
    "\n",
    "#ES1\n",
    "my_string = \"Epicode\"\n",
    "index = 0 #inizializzazione\n",
    "while index < len(my_string):\n",
    "    print(my_string[index])\n",
    "    index += 1"
   ]
  },
  {
   "cell_type": "code",
   "execution_count": 31,
   "id": "ea4b6003-7d67-46b1-84e8-99ee896b130a",
   "metadata": {},
   "outputs": [
    {
     "name": "stdout",
     "output_type": "stream",
     "text": [
      "0\n",
      "1\n",
      "2\n",
      "3\n",
      "4\n",
      "5\n",
      "6\n",
      "7\n",
      "8\n",
      "9\n",
      "10\n",
      "11\n",
      "12\n",
      "13\n",
      "14\n",
      "15\n",
      "16\n",
      "17\n",
      "18\n",
      "19\n",
      "20\n"
     ]
    }
   ],
   "source": [
    "#ES2\n",
    "num = 0\n",
    "\"\"\"while 0 <= num <= 20:\n",
    "    print(num)\n",
    "    num +=1\"\"\"\n",
    "while num <= 20:\n",
    "    print(num)\n",
    "    num +=1"
   ]
  },
  {
   "cell_type": "code",
   "execution_count": 59,
   "id": "e71d10a1-dd21-4888-a960-33a23e49bd93",
   "metadata": {},
   "outputs": [
    {
     "name": "stdout",
     "output_type": "stream",
     "text": [
      "1\n",
      "2\n",
      "4\n",
      "8\n",
      "16\n",
      "32\n",
      "64\n",
      "128\n",
      "256\n",
      "512\n"
     ]
    }
   ],
   "source": [
    "#ES3\n",
    "esp = 0\n",
    "\n",
    "while esp <10:\n",
    "    calcolo = 2**(esp)\n",
    "    print(calcolo)\n",
    "    esp +=1"
   ]
  },
  {
   "cell_type": "code",
   "execution_count": 61,
   "id": "e21225e9-ca63-4562-a40b-9632e03abfe7",
   "metadata": {},
   "outputs": [
    {
     "name": "stdin",
     "output_type": "stream",
     "text": [
      "Inserire il numero di iterazioni 6\n"
     ]
    },
    {
     "name": "stdout",
     "output_type": "stream",
     "text": [
      "1\n",
      "2\n",
      "4\n",
      "8\n",
      "16\n",
      "32\n"
     ]
    }
   ],
   "source": [
    "#ES4\n",
    "iterazioni = int(input(\"Inserire il numero di iterazioni\"))\n",
    "n = 0\n",
    "while n < iterazioni:\n",
    "    calcolo = 2**(n)\n",
    "    print(calcolo)\n",
    "    n += 1"
   ]
  },
  {
   "cell_type": "code",
   "execution_count": 69,
   "id": "2e4b1f13-738f-46ba-8fc1-a6298153a6ad",
   "metadata": {},
   "outputs": [
    {
     "name": "stdout",
     "output_type": "stream",
     "text": [
      "1\n",
      "2\n",
      "4\n",
      "8\n",
      "16\n",
      "32\n",
      "64\n",
      "128\n",
      "256\n",
      "512\n",
      "1024\n",
      "2048\n",
      "4096\n",
      "8192\n",
      "16384\n"
     ]
    }
   ],
   "source": [
    "#ES5\n",
    "esp = 0\n",
    "calcolo = 2**(esp) \n",
    "while calcolo < 25000:\n",
    "    print(calcolo)\n",
    "    esp +=1\n",
    "    calcolo = 2**(esp)\n",
    "    "
   ]
  },
  {
   "cell_type": "code",
   "execution_count": 101,
   "id": "019ef6e6-e3da-49fb-bfc8-f4cd35c3606f",
   "metadata": {},
   "outputs": [
    {
     "name": "stdin",
     "output_type": "stream",
     "text": [
      "Nome Utente: britneyspears\n"
     ]
    },
    {
     "name": "stdout",
     "output_type": "stream",
     "text": [
      "bri...ars\n"
     ]
    }
   ],
   "source": [
    "#ES6\n",
    "str = input(\"Nome Utente:\")\n",
    "if len(str)<6:\n",
    "    print(str[0:1]+\"...\"+str[-1:])\n",
    "else:\n",
    "    print(str[0:3]+\"...\"+str[-3:])"
   ]
  },
  {
   "cell_type": "code",
   "execution_count": 103,
   "id": "250ca5fe-6eca-471b-9bec-cb3c767204dd",
   "metadata": {},
   "outputs": [
    {
     "name": "stdin",
     "output_type": "stream",
     "text": [
      "Inserisci un numero intero:  700\n"
     ]
    },
    {
     "name": "stdout",
     "output_type": "stream",
     "text": [
      "Fattori primi: [2, 2, 5, 5, 7]\n"
     ]
    }
   ],
   "source": [
    "#ES7 mariagrazia\n",
    "n = int(input(\"Inserisci un numero intero: \" ))\n",
    "fattori = []\n",
    "divisore = 2\n",
    "while n > 1:\n",
    "    while n % divisore == 0:\n",
    "        fattori.append(divisore)\n",
    "        n = n/divisore\n",
    "    divisore += 1\n",
    "print(\"Fattori primi:\", fattori)\n",
    "\n"
   ]
  },
  {
   "cell_type": "code",
   "execution_count": 105,
   "id": "667c0e67-1d5b-4424-9871-860dc1008f21",
   "metadata": {},
   "outputs": [
    {
     "name": "stdout",
     "output_type": "stream",
     "text": [
      "E\n",
      "p\n",
      "i\n",
      "c\n",
      "o\n",
      "d\n",
      "e\n"
     ]
    }
   ],
   "source": [
    "#ES8\n",
    "my_string = \"Epicode\"\n",
    "\n",
    "for i in my_string:\n",
    "    print(i)"
   ]
  },
  {
   "cell_type": "code",
   "execution_count": 113,
   "id": "c38b5132-f670-44fc-a85e-a412fa880745",
   "metadata": {},
   "outputs": [
    {
     "name": "stdout",
     "output_type": "stream",
     "text": [
      "1\n",
      "2\n",
      "4\n",
      "8\n",
      "16\n",
      "32\n",
      "64\n",
      "128\n",
      "256\n",
      "512\n"
     ]
    }
   ],
   "source": [
    "#ES9\n",
    "iterazione = []\n",
    "\n",
    "for iterazione in range(10):\n",
    "    output = 2**(iterazione)\n",
    "    print(output)"
   ]
  },
  {
   "cell_type": "code",
   "execution_count": 151,
   "id": "07c06db8-ab3d-4ef0-8837-95cc707c89ee",
   "metadata": {},
   "outputs": [
    {
     "name": "stdin",
     "output_type": "stream",
     "text": [
      "Inserire un numero: 5\n"
     ]
    },
    {
     "name": "stdout",
     "output_type": "stream",
     "text": [
      "[1, 5, 25, 125, 625, 3125, 15625, 78125, 390625, 1953125]\n"
     ]
    }
   ],
   "source": [
    "#ES10 - while\n",
    "\n",
    "n = 0 #max 10\n",
    "k = int(input(\"Inserire un numero:\"))\n",
    "lst = []\n",
    "\n",
    "while n in range(10):\n",
    "    output = k**(n)\n",
    "    lst.append(output)\n",
    "    n+=1\n",
    "\n",
    "print(lst)"
   ]
  },
  {
   "cell_type": "code",
   "execution_count": 153,
   "id": "b4c60201-bdd9-40f3-9e76-75a7eb4ab95d",
   "metadata": {},
   "outputs": [
    {
     "name": "stdin",
     "output_type": "stream",
     "text": [
      "Inserire un numero: 5\n"
     ]
    },
    {
     "name": "stdout",
     "output_type": "stream",
     "text": [
      "[1, 5, 25, 125, 625, 3125, 15625, 78125, 390625, 1953125]\n"
     ]
    }
   ],
   "source": [
    "#ES10 - for\n",
    "\n",
    "n = 0\n",
    "k = int(input(\"Inserire un numero:\"))\n",
    "lst = []\n",
    "\n",
    "for n in range(10):\n",
    "    output = k**(n)\n",
    "    lst.append(output)\n",
    "print(lst)"
   ]
  },
  {
   "cell_type": "code",
   "execution_count": 157,
   "id": "af783e3b-a6e9-4c39-a33a-3fe4ba491262",
   "metadata": {},
   "outputs": [
    {
     "name": "stdout",
     "output_type": "stream",
     "text": [
      "La media dei guadagni è 70.0\n"
     ]
    }
   ],
   "source": [
    "#ES11\n",
    "\n",
    "guadagni = [100, 90, 70, 40, 50, 80, 90, 120, 80, 20, 50, 50]\n",
    "i = 0\n",
    "\n",
    "for i in guadagni:\n",
    "    avg = sum(guadagni)/len(guadagni)\n",
    "print(\"La media dei guadagni è\", avg)"
   ]
  },
  {
   "cell_type": "code",
   "execution_count": 191,
   "id": "6914d167-f6f9-4895-9ce6-d6e9afb43b0d",
   "metadata": {},
   "outputs": [
    {
     "name": "stdout",
     "output_type": "stream",
     "text": [
      "1\n",
      "1\n",
      "0\n",
      "1\n",
      "2\n",
      "4\n",
      "3\n",
      "2\n",
      "0\n",
      "1\n",
      "2\n",
      "0\n",
      "1\n",
      "2\n"
     ]
    }
   ],
   "source": [
    "#ES12\n",
    "\n",
    "parole = [\"Albergo\", \"Sedia\", \"Borgo\", \"Petalo\", \"Eremo\", \"Belvedere\", \"Semestre\", \"Esteta\", \"Sosta\", \"Orpello\", \"Abete\", \"Orologio\", \"Cesta\", \"Ermellino\"]\n",
    "\n",
    "for i in parole:\n",
    "    i = i.lower()\n",
    "    output = i.count(\"e\")\n",
    "    print(output)"
   ]
  },
  {
   "cell_type": "code",
   "execution_count": 253,
   "id": "5262b0fa-22c0-4cbf-8eaf-1d9979d21c54",
   "metadata": {},
   "outputs": [
    {
     "name": "stdout",
     "output_type": "stream",
     "text": [
      "{'Ada': 'Punto', 'Ben': 'Multipla', 'Charlie': 'Golf', 'Debbie': '107'}\n",
      "107\n"
     ]
    }
   ],
   "source": [
    "#ES13\n",
    "\n",
    "dizionario = {\"Ada\":\"Punto\", \"Ben\":\"Multipla\",\"Charlie\":\"Golf\", \"Debbie\":\"107\"}\n",
    "print(dizionario)\n",
    "print(dizionario.get(\"Debbie\"))"
   ]
  },
  {
   "cell_type": "code",
   "execution_count": 271,
   "id": "c936a298-7da6-4e1a-b81e-69a19a03d959",
   "metadata": {},
   "outputs": [
    {
     "name": "stdout",
     "output_type": "stream",
     "text": [
      "Punto\n",
      "Golf\n",
      "107\n"
     ]
    }
   ],
   "source": [
    "#ES14\n",
    "\n",
    "dizionario = {\"Ada\":\"Punto\", \"Ben\":\"Multipla\",\"Charlie\":\"Golf\", \"Debbie\":\"107\"}\n",
    "\n",
    "for i in dizionario.values():\n",
    "    if i != \"Multipla\":\n",
    "        print(i)"
   ]
  },
  {
   "cell_type": "code",
   "execution_count": 261,
   "id": "4004070e-ada6-4b6d-ad46-48e07f799e3e",
   "metadata": {},
   "outputs": [
    {
     "name": "stdout",
     "output_type": "stream",
     "text": [
      "L'auto di Ben è Multipla\n",
      "La nuova auto di Ben è Polo\n"
     ]
    }
   ],
   "source": [
    "#ES15\n",
    "\n",
    "dizionario_auto = {\"Ada\": \"Punto\", \"Ben\": \"Multipla\", \"Charlie\": \"Golf\", \"Debbie\": \"107\", \"Emily\": \"A1\"} \n",
    "print(\"L'auto di Ben è\", dizionario_auto.get(\"Ben\"))\n",
    "nuovi_proprietari = {\"Ben\": \"Polo\", \"Fred\": \"Octavia\", \"Grace\": \"Yaris\", \"Hugh\": \"Clio\"}\n",
    "dizionario_auto.update(nuovi_proprietari)\n",
    "print(\"La nuova auto di Ben è\", dizionario_auto.get(\"Ben\"))"
   ]
  },
  {
   "cell_type": "code",
   "execution_count": null,
   "id": "f438b1d0-7768-4f49-ab2d-c965b0ebf244",
   "metadata": {},
   "outputs": [],
   "source": []
  }
 ],
 "metadata": {
  "kernelspec": {
   "display_name": "Python [conda env:base] *",
   "language": "python",
   "name": "conda-base-py"
  },
  "language_info": {
   "codemirror_mode": {
    "name": "ipython",
    "version": 3
   },
   "file_extension": ".py",
   "mimetype": "text/x-python",
   "name": "python",
   "nbconvert_exporter": "python",
   "pygments_lexer": "ipython3",
   "version": "3.12.7"
  }
 },
 "nbformat": 4,
 "nbformat_minor": 5
}
