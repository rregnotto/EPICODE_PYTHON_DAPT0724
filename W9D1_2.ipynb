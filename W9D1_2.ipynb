{
 "cells": [
  {
   "cell_type": "code",
   "execution_count": 1,
   "id": "41762af2-1e91-4605-bcf7-1d475a8e9f30",
   "metadata": {},
   "outputs": [],
   "source": [
    "#ES1\n",
    "studenti = 25"
   ]
  },
  {
   "cell_type": "code",
   "execution_count": 3,
   "id": "1e5eeea2-6bd2-49fb-8e81-da74ec4dd0dd",
   "metadata": {},
   "outputs": [
    {
     "name": "stdout",
     "output_type": "stream",
     "text": [
      "25\n"
     ]
    }
   ],
   "source": [
    "#ES2\n",
    "studenti = 25\n",
    "print(studenti)"
   ]
  },
  {
   "cell_type": "code",
   "execution_count": 65,
   "id": "961279ec-7a8a-4651-ae47-84d5e4f2f4a3",
   "metadata": {},
   "outputs": [
    {
     "name": "stdout",
     "output_type": "stream",
     "text": [
      "28\n"
     ]
    }
   ],
   "source": [
    "#ES3\n",
    "studenti = 25\n",
    "studenti += 3\n",
    "print(studenti)"
   ]
  },
  {
   "cell_type": "code",
   "execution_count": 15,
   "id": "f2191bca-8fa1-400d-aa5a-27cb4b0f50f2",
   "metadata": {},
   "outputs": [
    {
     "name": "stdout",
     "output_type": "stream",
     "text": [
      "Epicode\n"
     ]
    }
   ],
   "source": [
    "#ES4\n",
    "str = \"Epicode\"\n",
    "print(str)"
   ]
  },
  {
   "cell_type": "code",
   "execution_count": 19,
   "id": "322d6a26-e62e-492d-a644-a5d59537ee83",
   "metadata": {},
   "outputs": [
    {
     "name": "stdout",
     "output_type": "stream",
     "text": [
      "36\n"
     ]
    }
   ],
   "source": [
    "#ES5\n",
    "x=10\n",
    "x= (x+2)*3\n",
    "print(x)"
   ]
  },
  {
   "cell_type": "code",
   "execution_count": 21,
   "id": "9c38aafc-fcc5-4c25-b6fd-00bf32a9e70e",
   "metadata": {},
   "outputs": [
    {
     "name": "stdout",
     "output_type": "stream",
     "text": [
      "4\n",
      "5\n",
      "10\n",
      "7\n"
     ]
    }
   ],
   "source": [
    "#ES6\n",
    "str1 = \"Word\"\n",
    "str2 = \"Excel\"\n",
    "str3 = \"PowerPoint\"\n",
    "str4 = \"Windows\"\n",
    "print(len(str1))\n",
    "print(len(str2))\n",
    "print(len(str3))\n",
    "print(len(str4))"
   ]
  },
  {
   "cell_type": "code",
   "execution_count": 67,
   "id": "56a5167c-b100-4c9f-82b4-a874b4d8a222",
   "metadata": {},
   "outputs": [
    {
     "name": "stdout",
     "output_type": "stream",
     "text": [
      "4 5 10 7\n"
     ]
    }
   ],
   "source": [
    "print(len(str1), len(str2), len(str3), len(str4))"
   ]
  },
  {
   "cell_type": "code",
   "execution_count": 23,
   "id": "794b1976-bcec-4c82-b4ea-929b90213e55",
   "metadata": {},
   "outputs": [
    {
     "name": "stdout",
     "output_type": "stream",
     "text": [
      "31536000\n"
     ]
    }
   ],
   "source": [
    "#ES7\n",
    "x = 60*60*24*365\n",
    "print(x)"
   ]
  },
  {
   "cell_type": "code",
   "execution_count": 71,
   "id": "ee6513b1-2f42-4d77-8359-ad328ad9a4e9",
   "metadata": {},
   "outputs": [
    {
     "name": "stdout",
     "output_type": "stream",
     "text": [
      "I'M STUDYING PYTHON\n"
     ]
    }
   ],
   "source": [
    "#ES7\n",
    "str = \"I'm studying Python\"\n",
    "print(str.upper())"
   ]
  },
  {
   "cell_type": "code",
   "execution_count": 73,
   "id": "66229f91-d131-4c42-bb20-ea88119a6324",
   "metadata": {},
   "outputs": [
    {
     "name": "stdout",
     "output_type": "stream",
     "text": [
      "i'm studying python\n"
     ]
    }
   ],
   "source": [
    "print(str.lower())"
   ]
  },
  {
   "cell_type": "code",
   "execution_count": 33,
   "id": "8836fe3f-4765-4897-87b3-88e8954327f1",
   "metadata": {},
   "outputs": [
    {
     "name": "stdout",
     "output_type": "stream",
     "text": [
      "I'm studying a lot\n"
     ]
    }
   ],
   "source": [
    "print(str.replace(\"Python\", \"a lot\"))"
   ]
  },
  {
   "cell_type": "code",
   "execution_count": 37,
   "id": "b14b23ae-d02f-4618-bdcc-ca1b40d77fa1",
   "metadata": {},
   "outputs": [
    {
     "name": "stdout",
     "output_type": "stream",
     "text": [
      "I'm studying Python\n"
     ]
    }
   ],
   "source": [
    "print(str.strip()) #perchè non cambia niente?"
   ]
  },
  {
   "cell_type": "code",
   "execution_count": 39,
   "id": "bbaed662-3bc1-492e-a0e8-5b508ddadb04",
   "metadata": {},
   "outputs": [
    {
     "name": "stdout",
     "output_type": "stream",
     "text": [
      "[\"I'm\", 'studying', 'Python']\n"
     ]
    }
   ],
   "source": [
    "print(str.split(\" \"))"
   ]
  },
  {
   "cell_type": "code",
   "execution_count": 77,
   "id": "1fa04783-6b10-4c97-beee-959c38c5e774",
   "metadata": {},
   "outputs": [
    {
     "name": "stdout",
     "output_type": "stream",
     "text": [
      "['Cybersecurity', 'Data Analyst', 'Backend', 'Frontend', 'Data Analyst', 'Backend', 'Frontend', 'Cybersecurity']\n",
      "Henry\n",
      "Cybersecurity\n"
     ]
    }
   ],
   "source": [
    "#ES8\n",
    "studenti = [\"Alex\", \"Bob\", \"Cindy\", \"Dan\", \"Emma\", \"Faith\", \"Grace\", \"Henry\"]\n",
    "corsi = [\"Cybersecurity\", \"Data Analyst\", \"Backend\", \"Frontend\", \"Data Analyst\", \"Backend\"]\n",
    "corsi.append(\"Frontend\")\n",
    "corsi.append(\"Cybersecurity\")\n",
    "print(corsi)\n",
    "print(studenti[-1])\n",
    "print(corsi[-1])"
   ]
  },
  {
   "cell_type": "code",
   "execution_count": null,
   "id": "b6463f2d-74eb-4ece-b986-032963d2e2d6",
   "metadata": {},
   "outputs": [],
   "source": []
  }
 ],
 "metadata": {
  "kernelspec": {
   "display_name": "Python [conda env:base] *",
   "language": "python",
   "name": "conda-base-py"
  },
  "language_info": {
   "codemirror_mode": {
    "name": "ipython",
    "version": 3
   },
   "file_extension": ".py",
   "mimetype": "text/x-python",
   "name": "python",
   "nbconvert_exporter": "python",
   "pygments_lexer": "ipython3",
   "version": "3.12.7"
  }
 },
 "nbformat": 4,
 "nbformat_minor": 5
}
